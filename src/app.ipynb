{
 "cells": [
  {
   "cell_type": "code",
   "execution_count": null,
   "metadata": {},
   "outputs": [],
   "source": []
  },
  {
   "cell_type": "code",
   "execution_count": 1,
   "metadata": {},
   "outputs": [],
   "source": [
    "import re\n",
    "from collections import defaultdict\n",
    "from docx import Document\n",
    "import pandas as pd\n",
    "import numpy as np\n",
    "import pandas as pd\n",
    "import matplotlib.pyplot as plt\n",
    "import statsmodels.api as sm\n",
    "\n",
    "# Import specific objects\n",
    "from sklearn.preprocessing import StandardScaler\n",
    "from ISLP import load_data"
   ]
  },
  {
   "cell_type": "code",
   "execution_count": 14,
   "metadata": {},
   "outputs": [],
   "source": [
    "# Load the dataset\n",
    "file_path = '../data/raw/opioid_data/2ddfbfd4-8347-467d-b6d5-797c5421f4fb.csv'\n",
    "df = pd.read_csv(file_path)"
   ]
  },
  {
   "cell_type": "code",
   "execution_count": 21,
   "metadata": {},
   "outputs": [
    {
     "data": {
      "text/html": [
       "<div>\n",
       "<style scoped>\n",
       "    .dataframe tbody tr th:only-of-type {\n",
       "        vertical-align: middle;\n",
       "    }\n",
       "\n",
       "    .dataframe tbody tr th {\n",
       "        vertical-align: top;\n",
       "    }\n",
       "\n",
       "    .dataframe thead th {\n",
       "        text-align: right;\n",
       "    }\n",
       "</style>\n",
       "<table border=\"1\" class=\"dataframe\">\n",
       "  <thead>\n",
       "    <tr style=\"text-align: right;\">\n",
       "      <th></th>\n",
       "      <th>Jurisdiction</th>\n",
       "      <th>Effective Date</th>\n",
       "      <th>Minimum Wage</th>\n",
       "      <th>Note</th>\n",
       "    </tr>\n",
       "  </thead>\n",
       "  <tbody>\n",
       "    <tr>\n",
       "      <th>0</th>\n",
       "      <td>FJ</td>\n",
       "      <td>01-Apr-24</td>\n",
       "      <td>$17.30</td>\n",
       "      <td>An employee should be paid at least the federa...</td>\n",
       "    </tr>\n",
       "    <tr>\n",
       "      <th>1</th>\n",
       "      <td>FJ</td>\n",
       "      <td>01-Apr-23</td>\n",
       "      <td>$16.65</td>\n",
       "      <td>An employee should be paid at least the federa...</td>\n",
       "    </tr>\n",
       "    <tr>\n",
       "      <th>2</th>\n",
       "      <td>FJ</td>\n",
       "      <td>01-Apr-22</td>\n",
       "      <td>$15.55</td>\n",
       "      <td>An employee should be paid at least the federa...</td>\n",
       "    </tr>\n",
       "    <tr>\n",
       "      <th>3</th>\n",
       "      <td>FJ</td>\n",
       "      <td>29-Dec-21</td>\n",
       "      <td>$15.00</td>\n",
       "      <td>An employee should be paid at least the federa...</td>\n",
       "    </tr>\n",
       "    <tr>\n",
       "      <th>4</th>\n",
       "      <td>FJ</td>\n",
       "      <td>17-Jul-96</td>\n",
       "      <td>NaN</td>\n",
       "      <td>Then-current provincial/territorial rates adop...</td>\n",
       "    </tr>\n",
       "    <tr>\n",
       "      <th>...</th>\n",
       "      <td>...</td>\n",
       "      <td>...</td>\n",
       "      <td>...</td>\n",
       "      <td>...</td>\n",
       "    </tr>\n",
       "    <tr>\n",
       "      <th>564</th>\n",
       "      <td>ON</td>\n",
       "      <td>30-Mar-65</td>\n",
       "      <td>$1.00</td>\n",
       "      <td>Women. Southern Ontario Zone</td>\n",
       "    </tr>\n",
       "    <tr>\n",
       "      <th>565</th>\n",
       "      <td>ON</td>\n",
       "      <td>01-Jan-65</td>\n",
       "      <td>$1.00</td>\n",
       "      <td>Oshawa-Toronto-Hamilton area. (Existing rate a...</td>\n",
       "    </tr>\n",
       "    <tr>\n",
       "      <th>566</th>\n",
       "      <td>ON</td>\n",
       "      <td>01-Jan-65</td>\n",
       "      <td>$1.00</td>\n",
       "      <td>Men. Southern Ontario Zone.</td>\n",
       "    </tr>\n",
       "    <tr>\n",
       "      <th>567</th>\n",
       "      <td>ON</td>\n",
       "      <td>01-Jan-65</td>\n",
       "      <td>$0.95</td>\n",
       "      <td>Women. Southern Ontario Zone.</td>\n",
       "    </tr>\n",
       "    <tr>\n",
       "      <th>568</th>\n",
       "      <td>ON</td>\n",
       "      <td>01-Jan-65</td>\n",
       "      <td>$0.90</td>\n",
       "      <td>Northern Ontario Zone. (Existing rate as of Ja...</td>\n",
       "    </tr>\n",
       "  </tbody>\n",
       "</table>\n",
       "<p>569 rows × 4 columns</p>\n",
       "</div>"
      ],
      "text/plain": [
       "    Jurisdiction Effective Date Minimum Wage  \\\n",
       "0             FJ      01-Apr-24       $17.30   \n",
       "1             FJ      01-Apr-23       $16.65   \n",
       "2             FJ      01-Apr-22       $15.55   \n",
       "3             FJ      29-Dec-21       $15.00   \n",
       "4             FJ      17-Jul-96          NaN   \n",
       "..           ...            ...          ...   \n",
       "564           ON      30-Mar-65        $1.00   \n",
       "565           ON      01-Jan-65        $1.00   \n",
       "566           ON      01-Jan-65        $1.00   \n",
       "567           ON      01-Jan-65        $0.95   \n",
       "568           ON      01-Jan-65        $0.90   \n",
       "\n",
       "                                                  Note  \n",
       "0    An employee should be paid at least the federa...  \n",
       "1    An employee should be paid at least the federa...  \n",
       "2    An employee should be paid at least the federa...  \n",
       "3    An employee should be paid at least the federa...  \n",
       "4    Then-current provincial/territorial rates adop...  \n",
       "..                                                 ...  \n",
       "564                       Women. Southern Ontario Zone  \n",
       "565  Oshawa-Toronto-Hamilton area. (Existing rate a...  \n",
       "566                        Men. Southern Ontario Zone.  \n",
       "567                      Women. Southern Ontario Zone.  \n",
       "568  Northern Ontario Zone. (Existing rate as of Ja...  \n",
       "\n",
       "[569 rows x 4 columns]"
      ]
     },
     "execution_count": 21,
     "metadata": {},
     "output_type": "execute_result"
    }
   ],
   "source": [
    "df"
   ]
  },
  {
   "cell_type": "code",
   "execution_count": 12,
   "metadata": {},
   "outputs": [
    {
     "name": "stdout",
     "output_type": "stream",
     "text": [
      "<class 'pandas.core.frame.DataFrame'>\n",
      "RangeIndex: 12159 entries, 0 to 12158\n",
      "Data columns (total 12 columns):\n",
      " #   Column            Non-Null Count  Dtype \n",
      "---  ------            --------------  ----- \n",
      " 0   Substance         12159 non-null  object\n",
      " 1   Source            12159 non-null  object\n",
      " 2   Specific_Measure  12159 non-null  object\n",
      " 3   Type_Event        12159 non-null  object\n",
      " 4   Region            12159 non-null  object\n",
      " 5   PRUID             12159 non-null  int64 \n",
      " 6   Time_Period       12159 non-null  object\n",
      " 7   Year_Quarter      12159 non-null  object\n",
      " 8   Aggregator        8123 non-null   object\n",
      " 9   Disaggregator     8123 non-null   object\n",
      " 10  Unit              12159 non-null  object\n",
      " 11  Value             11624 non-null  object\n",
      "dtypes: int64(1), object(11)\n",
      "memory usage: 1.1+ MB\n"
     ]
    }
   ],
   "source": [
    "df.info()"
   ]
  },
  {
   "cell_type": "code",
   "execution_count": 13,
   "metadata": {},
   "outputs": [
    {
     "data": {
      "text/plain": [
       "(12159, 12)"
      ]
     },
     "execution_count": 13,
     "metadata": {},
     "output_type": "execute_result"
    }
   ],
   "source": [
    "df.shape"
   ]
  },
  {
   "cell_type": "code",
   "execution_count": null,
   "metadata": {},
   "outputs": [],
   "source": []
  }
 ],
 "metadata": {
  "kernelspec": {
   "display_name": "Python 3",
   "language": "python",
   "name": "python3"
  },
  "language_info": {
   "codemirror_mode": {
    "name": "ipython",
    "version": 3
   },
   "file_extension": ".py",
   "mimetype": "text/x-python",
   "name": "python",
   "nbconvert_exporter": "python",
   "pygments_lexer": "ipython3",
   "version": "3.9.15"
  }
 },
 "nbformat": 4,
 "nbformat_minor": 2
}
